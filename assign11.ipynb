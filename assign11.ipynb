{
 "cells": [
  {
   "cell_type": "code",
   "execution_count": 6,
   "id": "f6c1de20-f794-4ced-a1b8-bfe44e79ba92",
   "metadata": {},
   "outputs": [
    {
     "name": "stdout",
     "output_type": "stream",
     "text": [
      "Car Name: Nissan G.T.R. 2024\n",
      "Max Speed: 195 miles/hour\n",
      "Average Speed: 100 miles/hour\n"
     ]
    }
   ],
   "source": [
    "# Q1, Create a vehicle class with an init method having instance variables as name_of_vehicle, max_speed\n",
    "# and average_of_vehicle.\n",
    "\n",
    "class vehicle:\n",
    "    def __init__(self, name_of_vehicle, max_speed, average_of_vehicle):\n",
    "        self.vehicleName = name_of_vehicle\n",
    "        self.maxSpeed = max_speed\n",
    "        self.average = average_of_vehicle\n",
    "        \n",
    "    def output(self):\n",
    "        return self.vehicleName, self.maxSpeed, self.average\n",
    "\n",
    "nissan = vehicle(\"Nissan G.T.R. 2024\", \"195 miles/hour\", \"100 miles/hour\")\n",
    "\n",
    "print(f\"Car Name: {nissan.vehicleName}\\nMax Speed: {nissan.maxSpeed}\\nAverage Speed: {nissan.average}\")"
   ]
  },
  {
   "cell_type": "code",
   "execution_count": 25,
   "id": "d3500b0e-3891-46fa-a2c2-98a13e09d0ca",
   "metadata": {},
   "outputs": [
    {
     "name": "stdout",
     "output_type": "stream",
     "text": [
      "Car Name: Nissan G.T.R. 2024\n",
      "Seating capacity: 2\n"
     ]
    }
   ],
   "source": [
    "# Q2. Create a child class car from the vehicle class created in Que 1, which will inherit the vehicle class.\n",
    "# Create a method named seating_capacity which takes capacity as an argument and returns the name of\n",
    "# the vehicle and its seating capacity.\n",
    "class car(vehicle):\n",
    "    def seating_capacity(self, capacity):\n",
    "        self.capacity = capacity\n",
    "        return f\"Car Name: {self.vehicleName}\\nSeating capacity: {self.capacity}\"\n",
    "\n",
    "nissan = car(\"Nissan G.T.R. 2024\", \"195 miles/hour\", \"100 miles/hour\")\n",
    "print(nissan.seating_capacity(2))\n"
   ]
  },
  {
   "cell_type": "code",
   "execution_count": null,
   "id": "7cf63429-d6b1-4b81-8201-afde2a941ab0",
   "metadata": {},
   "outputs": [
    {
     "name": "stdout",
     "output_type": "stream",
     "text": [
      "Multiple inheritance is a concept in O.O.Ps in which many derived or child class can inherit of one super or parent class.\n",
      "P.W. Skills is O.P.\n"
     ]
    }
   ],
   "source": [
    "# Q3. What is multiple inheritance? Write a python code to demonstrate multiple inheritance.\n",
    "\n",
    "print(\"Multiple inheritance is a concept in O.O.Ps in which many derived or child class can inherit of one super or parent class.\")\n",
    "\n",
    "#Example: \n",
    "\n",
    "class example1:\n",
    "    def __init__(self, pw):\n",
    "        self.pw = pw\n",
    "        \n",
    "    def out(self):\n",
    "        return self.pw\n",
    "\n",
    "class example2:\n",
    "    def __init__(self, op):\n",
    "        self.op = op\n",
    "    \n",
    "    def outing(self):\n",
    "        return self.op\n",
    "    \n",
    "class child_ex(example1, example2):\n",
    "        def __init__(self, pw, op, chotu):\n",
    "            example1.__init__(self, pw)\n",
    "            example2.__init__(self, op)\n",
    "            self.chotu = chotu\n",
    "            \n",
    "        def bahar(self):\n",
    "            return self.chotu\n",
    "\n",
    "mrinal = child_ex(\"P.W.\", \"Skills\", \"O.P.\")\n",
    "print(mrinal.pw, mrinal.op, \"is\" , mrinal.chotu)"
   ]
  },
  {
   "cell_type": "code",
   "execution_count": 67,
   "id": "63056719-82bb-4c17-9e86-d32e16c0d859",
   "metadata": {},
   "outputs": [
    {
     "name": "stdout",
     "output_type": "stream",
     "text": [
      "Getters: Getters are used to retrieve the value of a private attribute class.\n",
      "Setters: Setters are used to set/modify the value of aprivate attribute class.\n",
      "\n",
      "Initial Value: ('Banarasi', 'Ramesh')\n",
      "Modified Value: ('Chai wala', 'Naya_raddi')\n"
     ]
    }
   ],
   "source": [
    "# Q4. What are getter and setter in python? Create a class and create a getter and a setter method in this\n",
    "# class.\n",
    "\n",
    "print(\"Getters: Getters are used to retrieve the value of a private attribute class.\\nSetters: Setters are used to set/modify the value of aprivate attribute class.\\n\")\n",
    "\n",
    "#example \n",
    "\n",
    "class example:#example of getters\n",
    "    def __init__(self, seta, geta):\n",
    "        self.__seta = seta\n",
    "        self.__geta = geta\n",
    "        \n",
    "    def geter(self):\n",
    "        return self.__geta, self.__seta\n",
    "    \n",
    "    def set_att(self, chaiwala, raddiwala):\n",
    "        self.__geta = chaiwala\n",
    "        self.__seta = raddiwala\n",
    "        \n",
    "    \n",
    "examp = example(\"Ramesh\", \"Banarasi\")\n",
    "print(f\"Initial Value: {examp.geter()}\")\n",
    "\n",
    "examp.set_att(\"Chai wala\",\"Naya_raddi\")\n",
    "print(f\"Modified Value: {examp.geter()}\")\n"
   ]
  },
  {
   "cell_type": "code",
   "execution_count": 73,
   "id": "8d3653ac-f71c-457b-9215-29a454ec4fc9",
   "metadata": {},
   "outputs": [
    {
     "name": "stdout",
     "output_type": "stream",
     "text": [
      "Method overriding is a concept in O.O.Ps, used to overwrite the method of parent class given by the sub class.\n",
      "India : Namaste\n",
      "Spanish : ¡Hola!\n",
      "French: Bonjour!\n",
      "Chinese : 你好! (Nǐ hǎo!)\n"
     ]
    }
   ],
   "source": [
    "# Q5.What is method overriding in python? Write a python code to demonstrate method overriding.\n",
    "print(\"Method overriding is a concept in O.O.Ps, used to overwrite the method of parent class given by the sub class.\")\n",
    "\n",
    "#example \n",
    "\n",
    "class Languages:\n",
    "    def greetings(self):\n",
    "        return \"Greetings in different Languages\"\n",
    "\n",
    "class India(Languages):#Greetings in India\n",
    "    def greetings(self):\n",
    "        return \"Namaste\"\n",
    "    \n",
    "class Spanish(Languages):#Greetings in Spanish\n",
    "    def greetings(self):\n",
    "        return \"¡Hola!\"\n",
    "    \n",
    "class French(Languages):#Greetings in French\n",
    "    def greetings(self):\n",
    "        return \"Bonjour!\"\n",
    "    \n",
    "class Chinese(Languages):#Greetings in Chinese\n",
    "    def greetings(self):\n",
    "        return \"你好! (Nǐ hǎo!)\"\n",
    "    \n",
    "india, spanish, france, china = India(), Spanish(), French(), Chinese()\n",
    "\n",
    "print(f\"India : {india.greetings()}\\nSpanish : {spanish.greetings()}\\nFrench: {france.greetings()}\\nChinese : {china.greetings()}\")"
   ]
  },
  {
   "cell_type": "code",
   "execution_count": null,
   "id": "e05c8d3e-db2f-449a-93e1-44e694d00704",
   "metadata": {},
   "outputs": [],
   "source": []
  }
 ],
 "metadata": {
  "kernelspec": {
   "display_name": "Python 3 (ipykernel)",
   "language": "python",
   "name": "python3"
  },
  "language_info": {
   "codemirror_mode": {
    "name": "ipython",
    "version": 3
   },
   "file_extension": ".py",
   "mimetype": "text/x-python",
   "name": "python",
   "nbconvert_exporter": "python",
   "pygments_lexer": "ipython3",
   "version": "3.10.8"
  }
 },
 "nbformat": 4,
 "nbformat_minor": 5
}
